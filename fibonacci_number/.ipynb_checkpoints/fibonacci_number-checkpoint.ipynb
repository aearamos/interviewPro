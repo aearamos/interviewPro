{
 "cells": [
  {
   "cell_type": "markdown",
   "metadata": {},
   "source": [
    "The Fibonacci sequence is the integer sequence defined by the recurrence relation: F(n) = F(n-1) + F(n-2), where F(0) = 0 and F(1) = 1. In other words, the nth Fibonacci number is the sum of the prior two Fibonacci numbers. Below are the first few values of the sequence:\n",
    "\n",
    "0, 1, 1, 2, 3, 5, 8, 13, 21, 34, 55, 89, 144...\n",
    "\n",
    "Given a number n, print the n-th Fibonacci Number.\n",
    "\n",
    "Examples:\n",
    "\n",
    "Input: n = 3\n",
    "\n",
    "Output: 2\n",
    "\n",
    "Input: n = 7\n",
    "\n",
    "Output: 13"
   ]
  },
  {
   "cell_type": "code",
   "execution_count": 43,
   "metadata": {},
   "outputs": [
    {
     "name": "stdout",
     "output_type": "stream",
     "text": [
      "Please enter the nth term of Fibonacci:3\n",
      "2\n"
     ]
    }
   ],
   "source": [
    "n = input('Please enter the nth term of Fibonacci:')\n",
    "\n",
    "class Solution():\n",
    "    def fibonacci(self, n):\n",
    "        fibonacci = [0, 1]\n",
    "        for i in range(2, n + 1):\n",
    "            fibonacci.append(fibonacci[i - 1] + fibonacci [i - 2])\n",
    "            last = fibonacci[-1]\n",
    "        return last\n",
    "    # fill this in.\n",
    "\n",
    "#n = 9\n",
    "print(Solution().fibonacci(int(n)))\n",
    "# 34"
   ]
  },
  {
   "cell_type": "code",
   "execution_count": null,
   "metadata": {},
   "outputs": [],
   "source": [
    "\n"
   ]
  }
 ],
 "metadata": {
  "kernelspec": {
   "display_name": "Python 3",
   "language": "python",
   "name": "python3"
  },
  "language_info": {
   "codemirror_mode": {
    "name": "ipython",
    "version": 3
   },
   "file_extension": ".py",
   "mimetype": "text/x-python",
   "name": "python",
   "nbconvert_exporter": "python",
   "pygments_lexer": "ipython3",
   "version": "3.8.3"
  }
 },
 "nbformat": 4,
 "nbformat_minor": 4
}
