{
 "cells": [
  {
   "cell_type": "code",
   "execution_count": 244,
   "metadata": {},
   "outputs": [],
   "source": [
    "#Hi, here's your problem today. This problem was recently asked by Twitter:\n",
    "\n",
    "#Given a linked list, remove all duplicate values from the linked list.\n",
    "\n",
    "#For instance, given 1 -> 2 -> 3 -> 3 -> 4, then we wish to return the linked list 1 -> 2 -> 4.\n",
    "\n",
    "class Node(object):\n",
    "  def __init__(self, val, next=None):\n",
    "    self.val = val\n",
    "    self.next = next\n",
    "  def __str__(self):\n",
    "    if not self.next:\n",
    "      return str(self.val)\n",
    "    return str(self.val) + \" \" + str(self.next)\n",
    "\n",
    "#class Solution(object):\n",
    " # def deleteDuplicates(self, node):\n",
    "    # Fill this in.\n",
    "\n",
    "\n",
    "#n = Node(1, Node(2, Node(3, Node(3, Node(4)))))\n",
    "#print(n)\n",
    "#1 2 3 3 4\n",
    "#Solution().deleteDuplicates(n)\n",
    "#print(n)\n",
    "#1 2 4"
   ]
  },
  {
   "cell_type": "code",
   "execution_count": 236,
   "metadata": {},
   "outputs": [],
   "source": [
    "#To create a linked list in python, we need a Node object with 2 variables and LinkedList class to perform insertion, deletion etc.\n",
    "# value → To store the current node value\n",
    "# next → To store the reference to the next node object\n",
    "\n",
    "class Node(object):\n",
    "  def __init__(self, val, next=None):\n",
    "    self.val = val\n",
    "    self.next = next\n",
    "  def __str__(self):\n",
    "    if not self.next:\n",
    "      return str(self.val)\n",
    "    return str(self.val) + \" \" + str(self.next)\n"
   ]
  },
  {
   "cell_type": "code",
   "execution_count": 237,
   "metadata": {},
   "outputs": [
    {
     "name": "stdout",
     "output_type": "stream",
     "text": [
      "1 2 3 3 4\n"
     ]
    }
   ],
   "source": [
    "n = Node(1, Node(2, Node(3, Node(3, Node(4))))); \n",
    "print(n)"
   ]
  },
  {
   "cell_type": "code",
   "execution_count": 238,
   "metadata": {},
   "outputs": [],
   "source": [
    "class Solution(object):\n",
    "  def deleteDuplicates(self, node):\n",
    "    current = node\n",
    "    print(current)\n",
    "    #print (123)\n",
    "    prev = None\n",
    "    duplicate_dict = dict()\n",
    "    while current:\n",
    "        print (current.val)\n",
    "        #print (234)\n",
    "        if current.val not in duplicate_dict:\n",
    "            duplicate_dict[current.val] = None\n",
    "            prev = current\n",
    "        else:\n",
    "            prev.next = current.next\n",
    "        current = current.next"
   ]
  },
  {
   "cell_type": "code",
   "execution_count": 239,
   "metadata": {},
   "outputs": [],
   "source": [
    "l=Solution()"
   ]
  },
  {
   "cell_type": "code",
   "execution_count": 240,
   "metadata": {
    "scrolled": false
   },
   "outputs": [
    {
     "name": "stdout",
     "output_type": "stream",
     "text": [
      "1 2 3 3 4\n",
      "1\n",
      "2\n",
      "3\n",
      "3\n",
      "4\n",
      "None\n"
     ]
    }
   ],
   "source": [
    "deleted = l.deleteDuplicates(n)\n",
    "print(deleted)"
   ]
  },
  {
   "cell_type": "markdown",
   "metadata": {},
   "source": [
    "### Solution based on\n",
    "#### https://python.plainenglish.io/deleting-duplicates-from-a-linked-list-in-python-69abe8149697"
   ]
  },
  {
   "cell_type": "code",
   "execution_count": 242,
   "metadata": {},
   "outputs": [
    {
     "name": "stdout",
     "output_type": "stream",
     "text": [
      "15->80->25->32->15->35->25->\n",
      "15->80->25->32->35->"
     ]
    }
   ],
   "source": [
    "class Node(object):\n",
    "    \"\"\"\n",
    "    This is a Node class.\n",
    "    \"\"\"\n",
    "\n",
    "    def __init__(self, value):\n",
    "        self.value = value\n",
    "        self.next = None\n",
    "\n",
    "\n",
    "class LinkedList(object):\n",
    "\n",
    "    def __init__(self, head=None):\n",
    "        self.head = head\n",
    "\n",
    "    def insert_node(self, data):\n",
    "        \"\"\"\n",
    "        :param data: Node data\n",
    "        :return: None\n",
    "        \"\"\"\n",
    "        node = Node(data)\n",
    "        node.next = self.head\n",
    "        self.head = node\n",
    "\n",
    "    def display_list(self):\n",
    "\n",
    "        current = self.head\n",
    "        while current:\n",
    "            print(current.value, end=\"->\")\n",
    "            current = current.next\n",
    "\n",
    "    def delete_duplicates(self):\n",
    "\n",
    "        current = self.head\n",
    "        # This is require to keep track of the prev Node\n",
    "        prev = None\n",
    "        duplicate_dict = dict()\n",
    "        while current:\n",
    "            if current.value not in duplicate_dict:\n",
    "                duplicate_dict[current.value] = None\n",
    "                # Track the prev Node\n",
    "                prev = current\n",
    "            else:\n",
    "                # When a duplicate is found assign prev Node's next to current's next\n",
    "                prev.next = current.next\n",
    "\n",
    "            current = current.next\n",
    "\n",
    "    def delete_duplicates_2(self):\n",
    "\n",
    "        current = self.head\n",
    "\n",
    "        while current:\n",
    "            runner = current\n",
    "            # Check until runner.next is not None.\n",
    "            while runner.next:\n",
    "                if current.value == runner.next.value:\n",
    "                    runner.next = runner.next.next\n",
    "                else:\n",
    "                    runner = runner.next\n",
    "            current = current.next\n",
    "\n",
    "\n",
    "\n",
    "\n",
    "l = LinkedList()\n",
    "l.insert_node(25)\n",
    "l.insert_node(35)\n",
    "l.insert_node(15)\n",
    "l.insert_node(32)\n",
    "l.insert_node(25)\n",
    "l.insert_node(80)\n",
    "l.insert_node(15)\n",
    "l.display_list()\n",
    "#l.delete_duplicates()\n",
    "l.delete_duplicates_2()\n",
    "print()\n",
    "l.display_list()"
   ]
  },
  {
   "cell_type": "code",
   "execution_count": null,
   "metadata": {},
   "outputs": [],
   "source": []
  }
 ],
 "metadata": {
  "kernelspec": {
   "display_name": "Python 3",
   "language": "python",
   "name": "python3"
  },
  "language_info": {
   "codemirror_mode": {
    "name": "ipython",
    "version": 3
   },
   "file_extension": ".py",
   "mimetype": "text/x-python",
   "name": "python",
   "nbconvert_exporter": "python",
   "pygments_lexer": "ipython3",
   "version": "3.8.3"
  }
 },
 "nbformat": 4,
 "nbformat_minor": 4
}
