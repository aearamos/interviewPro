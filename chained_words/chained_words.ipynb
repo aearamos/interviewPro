{
 "cells": [
  {
   "cell_type": "markdown",
   "metadata": {},
   "source": [
    "Two words can be 'chained' if the last character of the first word is the same as the first character of the second word.\n",
    "\n",
    "Given a list of words, determine if there is a way to 'chain' all the words in a circle.\n",
    "\n",
    "Example:\n",
    "Input: ['eggs', 'karat', 'apple', 'snack', 'tuna']\n",
    "Output: True\n",
    "Explanation:\n",
    "The words in the order of ['apple', 'eggs', 'snack', 'karat', 'tuna'] creates a circle of chained words.\n",
    "\n",
    "Here's a start:\n",
    "\n",
    "from collections import defaultdict\n",
    "\n",
    "def chainedWords(words):\n",
    "  #Fill this in.\n",
    "\n",
    "print chainedWords(['apple', 'eggs', 'snack', 'karat', 'tuna'])\n",
    "#True"
   ]
  },
  {
   "cell_type": "code",
   "execution_count": 142,
   "metadata": {},
   "outputs": [],
   "source": [
    "words=['apple', 'eggs', 'snack', 'karat', 'tuna']"
   ]
  },
  {
   "cell_type": "code",
   "execution_count": 17,
   "metadata": {},
   "outputs": [],
   "source": [
    "first=words[0][0]"
   ]
  },
  {
   "cell_type": "code",
   "execution_count": 161,
   "metadata": {},
   "outputs": [
    {
     "name": "stdout",
     "output_type": "stream",
     "text": [
      "Chained\n",
      "True\n"
     ]
    }
   ],
   "source": [
    "words=['apple', 'eggs', 'snack', 'karat', 'tuna']\n",
    "def chainedWords(words):\n",
    "    i = 0\n",
    "    while i <= len(words):\n",
    "        if words[i][-1] == words[i+1][0] and words[-1][-1] == words[0][0]:\n",
    "            print(\"Chained\")\n",
    "            return True\n",
    "        else:\n",
    "            print(\"Not chained\")\n",
    "            return False\n",
    "        i += 1\n",
    "print (chainedWords(words))"
   ]
  },
  {
   "cell_type": "code",
   "execution_count": 162,
   "metadata": {},
   "outputs": [
    {
     "name": "stdout",
     "output_type": "stream",
     "text": [
      "Chained\n",
      "True\n"
     ]
    }
   ],
   "source": [
    "print (chainedWords(words))"
   ]
  },
  {
   "cell_type": "code",
   "execution_count": 163,
   "metadata": {},
   "outputs": [
    {
     "ename": "SyntaxError",
     "evalue": "invalid syntax (<ipython-input-163-242c6de264ef>, line 9)",
     "output_type": "error",
     "traceback": [
      "\u001b[0;36m  File \u001b[0;32m\"<ipython-input-163-242c6de264ef>\"\u001b[0;36m, line \u001b[0;32m9\u001b[0m\n\u001b[0;31m    if\u001b[0m\n\u001b[0m       ^\u001b[0m\n\u001b[0;31mSyntaxError\u001b[0m\u001b[0;31m:\u001b[0m invalid syntax\n"
     ]
    }
   ],
   "source": [
    "words = ['eggs', 'karat', 'apple', 'snack', 'tuna']\n",
    "i = 0\n",
    "for word in words:\n",
    "    while i <= len(words):\n",
    "        if words[i][-1] == words[i+1][0] and words[-1][-1] == words[0][0]:\n",
    "            print(\"chained\")\n",
    "        else:\n",
    "            chained_list=[]\n",
    "            if \n",
    "            print(\"Not chained\")\n",
    "        i += 1\n",
    "            "
   ]
  },
  {
   "cell_type": "code",
   "execution_count": 176,
   "metadata": {},
   "outputs": [
    {
     "name": "stdout",
     "output_type": "stream",
     "text": [
      "Not chained\n",
      "Not chained\n",
      "Not chained\n",
      "Not chained\n"
     ]
    },
    {
     "ename": "IndexError",
     "evalue": "list index out of range",
     "output_type": "error",
     "traceback": [
      "\u001b[0;31m---------------------------------------------------------------------------\u001b[0m",
      "\u001b[0;31mIndexError\u001b[0m                                Traceback (most recent call last)",
      "\u001b[0;32m<ipython-input-176-4a32360d227e>\u001b[0m in \u001b[0;36m<module>\u001b[0;34m\u001b[0m\n\u001b[1;32m      3\u001b[0m \u001b[0;32mfor\u001b[0m \u001b[0mword\u001b[0m \u001b[0;32min\u001b[0m \u001b[0mwords\u001b[0m\u001b[0;34m:\u001b[0m\u001b[0;34m\u001b[0m\u001b[0;34m\u001b[0m\u001b[0m\n\u001b[1;32m      4\u001b[0m     \u001b[0;32mfor\u001b[0m \u001b[0mi\u001b[0m \u001b[0;32min\u001b[0m \u001b[0mrange\u001b[0m\u001b[0;34m(\u001b[0m\u001b[0mlen\u001b[0m\u001b[0;34m(\u001b[0m\u001b[0mwords\u001b[0m\u001b[0;34m)\u001b[0m\u001b[0;34m)\u001b[0m\u001b[0;34m:\u001b[0m\u001b[0;34m\u001b[0m\u001b[0;34m\u001b[0m\u001b[0m\n\u001b[0;32m----> 5\u001b[0;31m         \u001b[0;32mif\u001b[0m \u001b[0mwords\u001b[0m\u001b[0;34m[\u001b[0m\u001b[0mi\u001b[0m\u001b[0;34m]\u001b[0m\u001b[0;34m[\u001b[0m\u001b[0;34m-\u001b[0m\u001b[0;36m1\u001b[0m\u001b[0;34m]\u001b[0m \u001b[0;34m==\u001b[0m \u001b[0mwords\u001b[0m\u001b[0;34m[\u001b[0m\u001b[0mi\u001b[0m\u001b[0;34m+\u001b[0m\u001b[0;36m1\u001b[0m\u001b[0;34m]\u001b[0m\u001b[0;34m[\u001b[0m\u001b[0;36m0\u001b[0m\u001b[0;34m]\u001b[0m \u001b[0;32mand\u001b[0m \u001b[0mwords\u001b[0m\u001b[0;34m[\u001b[0m\u001b[0;34m-\u001b[0m\u001b[0;36m1\u001b[0m\u001b[0;34m]\u001b[0m\u001b[0;34m[\u001b[0m\u001b[0;34m-\u001b[0m\u001b[0;36m1\u001b[0m\u001b[0;34m]\u001b[0m \u001b[0;34m==\u001b[0m \u001b[0mwords\u001b[0m\u001b[0;34m[\u001b[0m\u001b[0;36m0\u001b[0m\u001b[0;34m]\u001b[0m\u001b[0;34m[\u001b[0m\u001b[0;36m0\u001b[0m\u001b[0;34m]\u001b[0m\u001b[0;34m:\u001b[0m\u001b[0;34m\u001b[0m\u001b[0;34m\u001b[0m\u001b[0m\n\u001b[0m\u001b[1;32m      6\u001b[0m              \u001b[0mprint\u001b[0m\u001b[0;34m(\u001b[0m\u001b[0;34m\"chained\"\u001b[0m\u001b[0;34m)\u001b[0m\u001b[0;34m\u001b[0m\u001b[0;34m\u001b[0m\u001b[0m\n\u001b[1;32m      7\u001b[0m         \u001b[0;32melse\u001b[0m\u001b[0;34m:\u001b[0m\u001b[0;34m\u001b[0m\u001b[0;34m\u001b[0m\u001b[0m\n",
      "\u001b[0;31mIndexError\u001b[0m: list index out of range"
     ]
    }
   ],
   "source": [
    "words = ['eggs', 'karat', 'apple', 'snack', 'tuna']\n",
    "#words=['apple', 'eggs', 'snack', 'karat', 'tuna']\n",
    "for word in words:\n",
    "    for i in range(len(words)):\n",
    "        if words[i][-1] == words[i+1][0] and words[-1][-1] == words[0][0]:\n",
    "             print(\"chained\")\n",
    "        else: \n",
    "             print(\"Not chained\")"
   ]
  },
  {
   "cell_type": "code",
   "execution_count": null,
   "metadata": {},
   "outputs": [],
   "source": []
  },
  {
   "cell_type": "code",
   "execution_count": null,
   "metadata": {},
   "outputs": [],
   "source": []
  },
  {
   "cell_type": "code",
   "execution_count": null,
   "metadata": {},
   "outputs": [],
   "source": []
  },
  {
   "cell_type": "code",
   "execution_count": null,
   "metadata": {},
   "outputs": [],
   "source": []
  },
  {
   "cell_type": "code",
   "execution_count": null,
   "metadata": {},
   "outputs": [],
   "source": []
  },
  {
   "cell_type": "code",
   "execution_count": null,
   "metadata": {},
   "outputs": [],
   "source": []
  },
  {
   "cell_type": "code",
   "execution_count": 139,
   "metadata": {},
   "outputs": [
    {
     "name": "stdout",
     "output_type": "stream",
     "text": [
      "e\n",
      "k\n",
      "a\n",
      "s\n",
      "t\n",
      "['eggs', 'snack']\n"
     ]
    }
   ],
   "source": [
    "word_chain = []\n",
    "\n",
    "words = ['eggs', 'karat', 'apple', 'snack', 'tuna']\n",
    "word_chain.append(words[0])\n",
    "\n",
    "for word in words:\n",
    "    for char in word[0]:\n",
    "       print (char)\n",
    "       #print (word_chain[-1][-1])\n",
    "       if char == word_chain[-1][-1]:\n",
    "            word_chain.append(word)\n",
    "\n",
    "print(word_chain)"
   ]
  },
  {
   "cell_type": "code",
   "execution_count": 111,
   "metadata": {},
   "outputs": [
    {
     "ename": "ValueError",
     "evalue": "max() arg is an empty sequence",
     "output_type": "error",
     "traceback": [
      "\u001b[0;31m---------------------------------------------------------------------------\u001b[0m",
      "\u001b[0;31mValueError\u001b[0m                                Traceback (most recent call last)",
      "\u001b[0;32m<ipython-input-111-b1e08fbafbb1>\u001b[0m in \u001b[0;36m<module>\u001b[0;34m\u001b[0m\n\u001b[1;32m      9\u001b[0m \u001b[0;34m\u001b[0m\u001b[0m\n\u001b[1;32m     10\u001b[0m \u001b[0mnew_d\u001b[0m \u001b[0;34m=\u001b[0m \u001b[0;34m[\u001b[0m\u001b[0mlist\u001b[0m\u001b[0;34m(\u001b[0m\u001b[0mget_results\u001b[0m\u001b[0;34m(\u001b[0m\u001b[0mi\u001b[0m\u001b[0;34m,\u001b[0m \u001b[0;34m[\u001b[0m\u001b[0mi\u001b[0m\u001b[0;34m]\u001b[0m\u001b[0;34m,\u001b[0m \u001b[0;34m[\u001b[0m\u001b[0;34m]\u001b[0m\u001b[0;34m)\u001b[0m\u001b[0;34m)\u001b[0m\u001b[0;34m[\u001b[0m\u001b[0;36m0\u001b[0m\u001b[0;34m]\u001b[0m \u001b[0;32mfor\u001b[0m \u001b[0mi\u001b[0m \u001b[0;32min\u001b[0m \u001b[0mwords\u001b[0m\u001b[0;34m]\u001b[0m\u001b[0;34m\u001b[0m\u001b[0;34m\u001b[0m\u001b[0m\n\u001b[0;32m---> 11\u001b[0;31m \u001b[0mfinal_d\u001b[0m \u001b[0;34m=\u001b[0m \u001b[0mmax\u001b[0m\u001b[0;34m(\u001b[0m\u001b[0;34m[\u001b[0m\u001b[0mi\u001b[0m \u001b[0;32mfor\u001b[0m \u001b[0mi\u001b[0m \u001b[0;32min\u001b[0m \u001b[0mnew_d\u001b[0m \u001b[0;32mif\u001b[0m \u001b[0mlen\u001b[0m\u001b[0;34m(\u001b[0m\u001b[0mi\u001b[0m\u001b[0;34m)\u001b[0m \u001b[0;34m==\u001b[0m \u001b[0mlen\u001b[0m\u001b[0;34m(\u001b[0m\u001b[0mset\u001b[0m\u001b[0;34m(\u001b[0m\u001b[0mi\u001b[0m\u001b[0;34m)\u001b[0m\u001b[0;34m)\u001b[0m\u001b[0;34m]\u001b[0m\u001b[0;34m,\u001b[0m \u001b[0mkey\u001b[0m\u001b[0;34m=\u001b[0m\u001b[0mlen\u001b[0m\u001b[0;34m)\u001b[0m\u001b[0;34m\u001b[0m\u001b[0;34m\u001b[0m\u001b[0m\n\u001b[0m",
      "\u001b[0;31mValueError\u001b[0m: max() arg is an empty sequence"
     ]
    }
   ],
   "source": [
    "def get_results(_start, _current, _seen):\n",
    "  if all(c in _seen for c in words if c[0] == _start[-1]):\n",
    "    yield _current\n",
    "  else:\n",
    "      for i in words:\n",
    "        if i[0] == _start[-1]:\n",
    "          yield from get_results(i, _current+[i], _seen+[i])\n",
    "\n",
    "\n",
    "new_d = [list(get_results(i, [i], []))[0] for i in words]\n",
    "final_d = max([i for i in new_d if len(i) == len(set(i))], key=len)"
   ]
  },
  {
   "cell_type": "code",
   "execution_count": 177,
   "metadata": {},
   "outputs": [],
   "source": [
    "from collections import defaultdict\n",
    "import copy\n",
    "\n",
    "def get_next(current, d, finish):\n",
    "    flag=False\n",
    "    if len(d[current])==1: \n",
    "        if d[current][0]==finish and len(d.keys())==1:\n",
    "            flag= True\n",
    "        else:\n",
    "            new_d = copy.deepcopy(d)\n",
    "            new_current = d[current][0]\n",
    "            new_d.pop(current)\n",
    "            flag=get_next(new_current, new_d, finish)\n",
    "    elif len(d[current])>1:        \n",
    "        for index, c in enumerate(d[current]):\n",
    "            new_d = copy.deepcopy(d)\n",
    "            new_d[current].pop(index)\n",
    "            new_current = c\n",
    "            flag=get_next(new_current, new_d, finish)\n",
    "            \n",
    "    return flag\n",
    "\n",
    "def can_get_chained(input):\n",
    "    words = [(word[0], word[-1]) for word in input]\n",
    "    \n",
    "    d = defaultdict(list)\n",
    "    for k, v in words:\n",
    "        d[k].append(v)\n",
    "\n",
    "    #Start with any word\n",
    "    start = list(d.items())[0][0]\n",
    "    \n",
    "    return get_next(start, d, start)\n",
    "\n",
    "def main():\n",
    "    can_get_chained(['eggs', 'karat', 'apple', 'snack', 'tuna'])\n",
    "\n",
    "if __name__== \"__main__\":\n",
    "    main()"
   ]
  },
  {
   "cell_type": "code",
   "execution_count": 183,
   "metadata": {},
   "outputs": [
    {
     "name": "stdout",
     "output_type": "stream",
     "text": [
      "False\n"
     ]
    }
   ],
   "source": [
    "print(can_get_chained(['eggs', 'karat', 'apple', 'snack', 'tuna', 'states', 'icecream']))"
   ]
  },
  {
   "cell_type": "code",
   "execution_count": null,
   "metadata": {},
   "outputs": [],
   "source": []
  }
 ],
 "metadata": {
  "kernelspec": {
   "display_name": "Python 3",
   "language": "python",
   "name": "python3"
  },
  "language_info": {
   "codemirror_mode": {
    "name": "ipython",
    "version": 3
   },
   "file_extension": ".py",
   "mimetype": "text/x-python",
   "name": "python",
   "nbconvert_exporter": "python",
   "pygments_lexer": "ipython3",
   "version": "3.8.3"
  }
 },
 "nbformat": 4,
 "nbformat_minor": 4
}
