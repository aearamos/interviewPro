{
 "cells": [
  {
   "cell_type": "markdown",
   "metadata": {},
   "source": [
    "Hi, here's your problem today. This problem was recently asked by Google:\n",
    "\n",
    "Given a nested dictionary, flatten the dictionary, where nested dictionary keys can be represented through dot notation.\n",
    "\n",
    "Example:\n",
    "Input: {\n",
    "  'a': 1,\n",
    "  'b': {\n",
    "    'c': 2,\n",
    "    'd': {\n",
    "      'e': 3\n",
    "    }\n",
    "  }\n",
    "}\n",
    "Output: {\n",
    "  'a': 1,\n",
    "  'b.c': 2,\n",
    "  'b.d.e': 3\n",
    "}\n",
    "\n",
    "\n",
    "#### Dictionary\n",
    "Dictionaries are used to store data values in key:value pairs.\n",
    "\n",
    "A dictionary is a collection which is ordered*, changeable and does not allow duplicates.\n",
    "\n",
    "There are many reasons you would need a flattened dictionary. One is that it makes it simpler to compare two dicts. The other is that it’s easier to navigate and manipulate it, since a flat structure is one level deep.\n",
    "\n",
    "More here: https://www.freecodecamp.org/news/how-to-flatten-a-dictionary-in-python-in-4-different-ways/"
   ]
  },
  {
   "cell_type": "code",
   "execution_count": 8,
   "metadata": {},
   "outputs": [],
   "source": [
    "def flatten_dictionary(d, separator ='.', prefix =''):\n",
    "    return { prefix + separator + k if prefix else k : v \n",
    "             for kk, vv in d.items() \n",
    "             for k, v in flatten_dictionary(vv, separator, kk).items() \n",
    "             } if isinstance(d, dict) else { prefix : d } \n",
    "\n"
   ]
  },
  {
   "cell_type": "code",
   "execution_count": 9,
   "metadata": {},
   "outputs": [
    {
     "name": "stdout",
     "output_type": "stream",
     "text": [
      "{'a': 1, 'b.c': 2, 'b.d.e': 3}\n"
     ]
    }
   ],
   "source": [
    "d = {\n",
    "    'a': 1,\n",
    "    'b': {\n",
    "        'c': 2,\n",
    "        'd': {\n",
    "            'e': 3\n",
    "        }\n",
    "    }\n",
    "}\n",
    "print(flatten_dictionary(d))\n",
    "# {'a': 1, 'b.c': 2, 'b.d.e': 3}"
   ]
  },
  {
   "cell_type": "markdown",
   "metadata": {},
   "source": [
    "## With Pandas"
   ]
  },
  {
   "cell_type": "code",
   "execution_count": 10,
   "metadata": {},
   "outputs": [
    {
     "data": {
      "text/plain": [
       "{'a': 1, 'd': [6, 7, 8], 'c.a': 2, 'c.b.x': 3, 'c.b.y': 4, 'c.b.z': 5}"
      ]
     },
     "execution_count": 10,
     "metadata": {},
     "output_type": "execute_result"
    }
   ],
   "source": [
    "from collections.abc import MutableMapping\n",
    "import pandas as pd\n",
    "\n",
    "def flatten_dict(d: MutableMapping, sep: str= '.') -> MutableMapping:\n",
    "    [flat_dict] = pd.json_normalize(d, sep=sep).to_dict(orient='records')\n",
    "    return flat_dict\n",
    "\n",
    "\n",
    "flatten_dict({'a': 1, 'c': {'a': 2, 'b': {'x': 3, 'y': 4, 'z': 5}}, 'd': [6, 7, 8]})\n",
    "{'a': 1, 'd': [6, 7, 8], 'c.a': 2, 'c.b.x': 3, 'c.b.y': 4, 'c.b.z': 5}"
   ]
  },
  {
   "cell_type": "code",
   "execution_count": null,
   "metadata": {},
   "outputs": [],
   "source": []
  }
 ],
 "metadata": {
  "kernelspec": {
   "display_name": "Python 3",
   "language": "python",
   "name": "python3"
  },
  "language_info": {
   "codemirror_mode": {
    "name": "ipython",
    "version": 3
   },
   "file_extension": ".py",
   "mimetype": "text/x-python",
   "name": "python",
   "nbconvert_exporter": "python",
   "pygments_lexer": "ipython3",
   "version": "3.8.3"
  }
 },
 "nbformat": 4,
 "nbformat_minor": 4
}
