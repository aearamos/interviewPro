{
 "cells": [
  {
   "cell_type": "markdown",
   "metadata": {},
   "source": [
    "Hi, here's your problem today. This problem was recently asked by Twitter:\n",
    "\n",
    "Given a sorted list with duplicates, and a target number n, find the range in which the number exists (represented as a tuple (low, high), both inclusive. If the number does not exist in the list, return (-1, -1)).\n",
    "\n",
    "Here's some examples and some starter code.\n",
    "\n",
    "def find_num(nums, target):\n",
    "  #Fill this in.\n",
    "\n",
    "print(find_num([1, 1, 3, 5, 7], 1))\n",
    "#(0, 1)\n",
    "\n",
    "print(find_num([1, 2, 3, 4], 5))\n",
    "#(-1, -1)"
   ]
  },
  {
   "cell_type": "code",
   "execution_count": 52,
   "metadata": {},
   "outputs": [],
   "source": [
    "nums = [1, 1, 1, 3, 5, 1, 7]\n",
    "target = 1"
   ]
  },
  {
   "cell_type": "code",
   "execution_count": 62,
   "metadata": {},
   "outputs": [
    {
     "name": "stdout",
     "output_type": "stream",
     "text": [
      "[3, 3]\n"
     ]
    }
   ],
   "source": [
    "def find_num(nums, target):\n",
    "    index_list = []\n",
    "    for number in range(len(nums)):\n",
    "        if target in nums:\n",
    "            # https://www.askpython.com/python/list/get-the-index-of-an-item\n",
    "            index_list = [x for x in range(len(nums)) if nums[x] == target] \n",
    "            res = [ index_list[0], index_list[-1] ]\n",
    "            return (str(res))\n",
    "            break\n",
    "        else:\n",
    "            return ([-1, -1])\n",
    "            break\n",
    "\n",
    "print(find_num(nums, 3))"
   ]
  }
 ],
 "metadata": {
  "kernelspec": {
   "display_name": "Python 3",
   "language": "python",
   "name": "python3"
  },
  "language_info": {
   "codemirror_mode": {
    "name": "ipython",
    "version": 3
   },
   "file_extension": ".py",
   "mimetype": "text/x-python",
   "name": "python",
   "nbconvert_exporter": "python",
   "pygments_lexer": "ipython3",
   "version": "3.8.3"
  }
 },
 "nbformat": 4,
 "nbformat_minor": 4
}
