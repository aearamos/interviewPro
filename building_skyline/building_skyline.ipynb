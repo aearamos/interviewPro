{
 "cells": [
  {
   "cell_type": "markdown",
   "metadata": {},
   "source": [
    "Given a list of building in the form of (left, right, height), return what the skyline should look like. The skyline should be in the form of a list of (x-axis, height), where x-axis is the next point where there is a change in height starting from 0, and height is the new height starting from the x-axis.\n",
    "\n",
    "Solution from https://codereview.stackexchange.com/questions/221178/python-program-to-solve-the-skyline-problem"
   ]
  },
  {
   "cell_type": "code",
   "execution_count": 22,
   "metadata": {},
   "outputs": [],
   "source": [
    "class Solution:\n",
    "         def get_skyline(self, buildings):\n",
    "             \"\"\"\n",
    "             :type buildings: List[List[int]]\n",
    "             :rtype: List[List[int]]\n",
    "             \"\"\"\n",
    "             if not buildings:\n",
    "                 return []\n",
    "             if len(buildings) == 1:\n",
    "                 return [[buildings[0][0], buildings[0][2]], [buildings[0][1], 0]]\n",
    "\n",
    "             mid = len(buildings) // 2\n",
    "             left = self.get_skyline(buildings[:mid])\n",
    "             right = self.get_skyline(buildings[mid:])\n",
    "             return self.merge(left, right)\n",
    "\n",
    "         def merge(self, left, right):\n",
    "             h1, h2 = 0, 0\n",
    "             i, j = 0, 0\n",
    "             result = []\n",
    "\n",
    "             while i < len(left) and j < len(right):\n",
    "                 if left[i][0] < right[j][0]:\n",
    "                     h1 = left[i][1]\n",
    "                     corner = left[i][0]\n",
    "                     i += 1\n",
    "                 elif right[j][0] < left[i][0]:\n",
    "                     h2 = right[j][1]\n",
    "                     corner = right[j][0]\n",
    "                     j += 1\n",
    "                 else:\n",
    "                     h1 = left[i][1]\n",
    "                     h2 = right[j][1]\n",
    "                     corner = right[j][0]\n",
    "                     i += 1\n",
    "                     j += 1\n",
    "                 if self.is_valid(result, max(h1, h2)):\n",
    "                     result.append([corner, max(h1, h2)])\n",
    "             result.extend(right[j:])\n",
    "             result.extend(left[i:])\n",
    "             return result\n",
    "\n",
    "         def is_valid(self, result, new_height):\n",
    "             return not result or result[-1][1] != new_height"
   ]
  },
  {
   "cell_type": "code",
   "execution_count": 23,
   "metadata": {},
   "outputs": [
    {
     "name": "stdout",
     "output_type": "stream",
     "text": [
      "[[2, 3], [4, 5], [6, 3], [8, 0]]\n"
     ]
    }
   ],
   "source": [
    "output = Solution()\n",
    "print(output.get_skyline([[2, 8, 3], [4, 6, 5]]))"
   ]
  },
  {
   "cell_type": "code",
   "execution_count": null,
   "metadata": {},
   "outputs": [],
   "source": []
  }
 ],
 "metadata": {
  "kernelspec": {
   "display_name": "Python 3",
   "language": "python",
   "name": "python3"
  },
  "language_info": {
   "codemirror_mode": {
    "name": "ipython",
    "version": 3
   },
   "file_extension": ".py",
   "mimetype": "text/x-python",
   "name": "python",
   "nbconvert_exporter": "python",
   "pygments_lexer": "ipython3",
   "version": "3.8.3"
  }
 },
 "nbformat": 4,
 "nbformat_minor": 4
}
