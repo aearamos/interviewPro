{
 "cells": [
  {
   "cell_type": "markdown",
   "metadata": {},
   "source": [
    "Hi, here's your problem today. This problem was recently asked by Google:\n",
    "\n",
    "Given a string with a certain rule: k[string] should be expanded to string k times. So for example, 3[abc] should be expanded to abcabcabc. Nested expansions can happen, so 2[a2[b]c] should be expanded to abbcabbc.\n",
    "\n",
    "\n",
    "Adapted from https://www.geeksforgeeks.org/expand-the-string-according-to-the-given-conditions/ to fit different cases."
   ]
  },
  {
   "cell_type": "code",
   "execution_count": 219,
   "metadata": {},
   "outputs": [
    {
     "name": "stdout",
     "output_type": "stream",
     "text": [
      "abbccccabbcccc"
     ]
    }
   ],
   "source": [
    "import re\n",
    "def decodeString(strin):\n",
    "    temp = \"\"\n",
    "    j = 0\n",
    "    i = 0\n",
    "    while strin.count('[') > 1:\n",
    "        last = strin.rfind('[')\n",
    "        multiplier = strin[last - 1]\n",
    "        m = re.search(r\"[0-9]\\[(\\w+)\\]\", strin[last-1:])\n",
    "        par = m.group(1)*int(multiplier)\n",
    "        test = strin.replace(m.group(0), par)\n",
    "        strin = test\n",
    "    else:\n",
    "        strin = strin\n",
    "        \n",
    "    while(i < len(strin)):\n",
    "        if (strin[i] >= \"0\"):\n",
    "             \n",
    "            # Subtract '0' to convert char to int\n",
    "            num = ord(strin[i])-ord(\"0\")\n",
    "           \n",
    "            if (strin[i+1] == '['):\n",
    "                 \n",
    "                # Characters within brackets\n",
    "                j = i + 1\n",
    "                while(strin[j] != ']'):\n",
    "                    if ((strin[j] >= 'a' and strin[j] <= 'z') or \\\n",
    "                        (strin[j] >= 'A' and strin[j] <= 'Z')):\n",
    "                        temp += strin[j]\n",
    "                    j += 1\n",
    "                     \n",
    "                # Expanding\n",
    "                for k in range(1, num + 1):\n",
    "                    print(temp,end=\"\")\n",
    "                     \n",
    "                # Reset the variables\n",
    "                num = 0\n",
    "                temp = \"\"\n",
    "                if (j < len(strin)):\n",
    "                    i = j\n",
    "            \n",
    "        i += 1\n",
    "decodeString('2[a2[b]4[c]]')\n",
    "# abbcabbc\n"
   ]
  },
  {
   "cell_type": "code",
   "execution_count": 220,
   "metadata": {},
   "outputs": [
    {
     "name": "stdout",
     "output_type": "stream",
     "text": [
      "8\n",
      "3\n",
      "('3[c]', 'c')\n",
      "3[a2[b]ccc]\n"
     ]
    }
   ],
   "source": [
    "# right path\n",
    "import re\n",
    "strin = \"3[a2[b]3[c]]\"\n",
    "last = strin.rfind('[')\n",
    "multiplier = strin[last - 1]\n",
    "m = re.search(r\"[0-9]\\[(\\w+)\\]\", strin[last-1:])\n",
    "par = m.group(1)*int(multiplier)\n",
    "test = strin.replace(m.group(0), par)\n",
    "print(last)\n",
    "print(multiplier)\n",
    "print(m.group(0,1))\n",
    "print(test)\n",
    "\n"
   ]
  },
  {
   "cell_type": "code",
   "execution_count": null,
   "metadata": {},
   "outputs": [],
   "source": []
  }
 ],
 "metadata": {
  "kernelspec": {
   "display_name": "Python 3",
   "language": "python",
   "name": "python3"
  },
  "language_info": {
   "codemirror_mode": {
    "name": "ipython",
    "version": 3
   },
   "file_extension": ".py",
   "mimetype": "text/x-python",
   "name": "python",
   "nbconvert_exporter": "python",
   "pygments_lexer": "ipython3",
   "version": "3.8.3"
  }
 },
 "nbformat": 4,
 "nbformat_minor": 4
}
