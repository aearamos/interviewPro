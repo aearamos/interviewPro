{
 "cells": [
  {
   "cell_type": "markdown",
   "metadata": {},
   "source": [
    "Hi, here's your problem today. This problem was recently asked by Facebook:\n",
    "\n",
    "Given an array nums, write a function to move all 0's to the end of it while maintaining the relative order of the non-zero elements.\n",
    "\n",
    "Example:\n",
    "Input: [0,1,0,3,12]\n",
    "Output: [1,3,12,0,0]\n",
    "You must do this in-place without making a copy of the array.\n",
    "Minimize the total number of operations.\n",
    "\n",
    "Here is a starting point:\n",
    "\n",
    "class Solution:\n",
    "  def moveZeros(self, nums):\n",
    "    # Fill this in.\n",
    "\n",
    "nums = [0, 0, 0, 2, 0, 1, 3, 4, 0, 0]\n",
    "Solution().moveZeros(nums)\n",
    "print(nums)\n",
    "#[2, 1, 3, 4, 0, 0, 0, 0, 0, 0]\n"
   ]
  },
  {
   "cell_type": "code",
   "execution_count": 12,
   "metadata": {},
   "outputs": [],
   "source": [
    "list = [0,1,0,3,12]\n",
    "#list.sort(reverse=True)"
   ]
  },
  {
   "cell_type": "code",
   "execution_count": 33,
   "metadata": {},
   "outputs": [],
   "source": [
    "class Solution:\n",
    "    def moveZeros(self, nums):\n",
    "        nums.sort(key = int('0').__eq__) # why use __eq__:(https://www.pythontutorial.net/python-oop/python-__eq__/)"
   ]
  },
  {
   "cell_type": "code",
   "execution_count": 34,
   "metadata": {},
   "outputs": [
    {
     "name": "stdout",
     "output_type": "stream",
     "text": [
      "[2, 1, 3, 4, 0, 0, 0, 0, 0, 0]\n"
     ]
    }
   ],
   "source": [
    "nums = [0, 0, 0, 2, 0, 1, 3, 4, 0, 0] \n",
    "Solution().moveZeros(nums) \n",
    "print(nums)"
   ]
  },
  {
   "cell_type": "code",
   "execution_count": 30,
   "metadata": {},
   "outputs": [
    {
     "name": "stdout",
     "output_type": "stream",
     "text": [
      "The original list is : ['3', '5', '7', '9', '11']\n",
      "The modified element moved list is : ['3', '5', '7', '11', '9']\n"
     ]
    }
   ],
   "source": [
    "test_list1 = ['3', '5', '7', '9', '11']\n",
    "  \n",
    "# printing original list \n",
    "print (\"The original list is : \" + str(test_list1))\n",
    "  \n",
    "# using append() + pop() + index()\n",
    "# moving element to end \n",
    "test_list1.append(test_list1.pop(test_list1.index('9')))\n",
    "  \n",
    "# printing result\n",
    "print (\"The modified element moved list is : \" + str(test_list1))\n"
   ]
  },
  {
   "cell_type": "code",
   "execution_count": null,
   "metadata": {},
   "outputs": [],
   "source": []
  }
 ],
 "metadata": {
  "kernelspec": {
   "display_name": "Python 3",
   "language": "python",
   "name": "python3"
  },
  "language_info": {
   "codemirror_mode": {
    "name": "ipython",
    "version": 3
   },
   "file_extension": ".py",
   "mimetype": "text/x-python",
   "name": "python",
   "nbconvert_exporter": "python",
   "pygments_lexer": "ipython3",
   "version": "3.8.3"
  }
 },
 "nbformat": 4,
 "nbformat_minor": 4
}
