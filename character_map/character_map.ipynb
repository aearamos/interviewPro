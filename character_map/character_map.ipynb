{
 "cells": [
  {
   "cell_type": "markdown",
   "metadata": {},
   "source": [
    "Hi, here's your problem today. This problem was recently asked by Google:\n",
    "\n",
    "Given two strings, find if there is a one-to-one mapping of characters between the two strings.\n",
    "\n",
    "##### Example\n",
    "Input: abc, def\n",
    "\n",
    "Output: True # a -> d, b -> e, c -> f\n",
    "\n",
    "Input: aab, def\n",
    "\n",
    "Ouput: False # a can't map to d and e \n",
    "\n",
    "##### Here's some starter code:\n",
    "\n",
    "def has_character_map(str1, str2):\n",
    "  #Fill this in.\n",
    "\n",
    "print(has_character_map('abc', 'def'))\n",
    "#True\n",
    "print(has_character_map('aac', 'def'))\n",
    "#False"
   ]
  },
  {
   "cell_type": "code",
   "execution_count": 82,
   "metadata": {},
   "outputs": [
    {
     "name": "stdout",
     "output_type": "stream",
     "text": [
      "True\n",
      "[a -> d -> None, b -> e -> None, c -> f -> None]\n"
     ]
    }
   ],
   "source": [
    "def has_character_map(str1, str2):\n",
    "    if len(str1) != len(set(str1)) or len(str2) != len(set(str2)):\n",
    "        return False\n",
    "    else:\n",
    "        mapped_list = []\n",
    "        for i in range(len(str1)):\n",
    "            llist = LinkedList()\n",
    "            first_node = Node(str1[i])\n",
    "            second_node = Node(str2[i])\n",
    "            first_node.next = second_node\n",
    "            llist.head = first_node\n",
    "            mapped_list.append(llist)\n",
    "    print (True)\n",
    "            \n",
    "    return list(mapped_list)\n",
    "    \n",
    "class Node:\n",
    "    def __init__(self, data):\n",
    "        self.data = data\n",
    "        self.next = None\n",
    "\n",
    "    def __repr__(self):\n",
    "        return self.data\n",
    "\n",
    "class LinkedList:\n",
    "    def __init__(self):\n",
    "        self.head = None\n",
    "\n",
    "    def __repr__(self):\n",
    "        node = self.head\n",
    "        nodes = []\n",
    "        while node is not None:\n",
    "            nodes.append(node.data)\n",
    "            node = node.next\n",
    "        nodes.append(\"None\")\n",
    "        return \" -> \".join(nodes)\n",
    "    \n",
    "print(has_character_map('abc', 'def'))    \n"
   ]
  }
 ],
 "metadata": {
  "kernelspec": {
   "display_name": "Python 3",
   "language": "python",
   "name": "python3"
  },
  "language_info": {
   "codemirror_mode": {
    "name": "ipython",
    "version": 3
   },
   "file_extension": ".py",
   "mimetype": "text/x-python",
   "name": "python",
   "nbconvert_exporter": "python",
   "pygments_lexer": "ipython3",
   "version": "3.8.3"
  }
 },
 "nbformat": 4,
 "nbformat_minor": 4
}
