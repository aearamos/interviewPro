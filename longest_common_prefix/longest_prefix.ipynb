{
 "cells": [
  {
   "cell_type": "markdown",
   "metadata": {},
   "source": [
    "Hi, here's your problem today. This problem was recently asked by Microsoft:\n",
    "\n",
    "Given a list of strings, find the longest common prefix between all strings.\n",
    "\n",
    "Here's some examples and some starter code.\n",
    "\n",
    "def longest_common_prefix(strs):\n",
    "  #Fill this in.\n",
    "  \n",
    "print(longest_common_prefix(['helloworld', 'hellokitty', 'hell']))\n",
    "#hell\n",
    "\n",
    "print(longest_common_prefix(['daily', 'interview', 'pro']))\n",
    "#''"
   ]
  },
  {
   "cell_type": "code",
   "execution_count": 173,
   "metadata": {},
   "outputs": [],
   "source": [
    "words=['world', 'hellokitty', 'hell']\n",
    "#words = ['akshat', 'akash', 'akshay', 'akshita']\n",
    "words = ['car', 'camel']"
   ]
  },
  {
   "cell_type": "code",
   "execution_count": 21,
   "metadata": {},
   "outputs": [],
   "source": [
    "i = 0\n",
    "longest_list=[]\n",
    "while i <= len(words):\n",
    "    if words[0][i] == words[1][i]:\n",
    "        longest_list.append(words)\n",
    "    i += 1"
   ]
  },
  {
   "cell_type": "code",
   "execution_count": 22,
   "metadata": {},
   "outputs": [
    {
     "name": "stdout",
     "output_type": "stream",
     "text": [
      "[['helloworld', 'hellokitty', 'hell'], ['helloworld', 'hellokitty', 'hell'], ['helloworld', 'hellokitty', 'hell'], ['helloworld', 'hellokitty', 'hell']]\n"
     ]
    }
   ],
   "source": [
    "print (longest_list)"
   ]
  },
  {
   "cell_type": "code",
   "execution_count": 140,
   "metadata": {},
   "outputs": [
    {
     "name": "stdout",
     "output_type": "stream",
     "text": [
      "hellehelllhellhell"
     ]
    }
   ],
   "source": [
    "i=0\n",
    "longest_prefix=[]\n",
    "while i in range(0, len(words)):\n",
    "    for letter in words[i]:\n",
    "        if letter in words[0][0:4] and letter in words[1][0:4] and letter in words[2][0:4]:\n",
    "            #longest_prefix.append(letter)\n",
    "            print(str(letter), end='')\n",
    "    i += 1"
   ]
  },
  {
   "cell_type": "code",
   "execution_count": 169,
   "metadata": {},
   "outputs": [
    {
     "name": "stdout",
     "output_type": "stream",
     "text": [
      "Resultant prefix \n"
     ]
    }
   ],
   "source": [
    "res=''\n",
    "prefix = words[0]\n",
    "\n",
    "for string in words[1:]:\n",
    "    while string[:len(prefix)] != prefix:\n",
    "        prefix = prefix[:len(prefix)-1]\n",
    "    if not prefix:\n",
    "        break\n",
    "res = prefix\n",
    "\n",
    "print(\"Resultant prefix\", str(res))"
   ]
  },
  {
   "cell_type": "code",
   "execution_count": 162,
   "metadata": {},
   "outputs": [
    {
     "name": "stdout",
     "output_type": "stream",
     "text": [
      "l\n",
      "l\n",
      "l\n"
     ]
    }
   ],
   "source": [
    "for word in words[1:]:\n",
    "    print (word[3])"
   ]
  },
  {
   "cell_type": "code",
   "execution_count": 114,
   "metadata": {},
   "outputs": [],
   "source": [
    "for string in words[1:]:\n",
    "    while string[:len(prefix)] != prefix:\n",
    "        prefix = prefix[:len(prefix)-1]\n",
    "        print(prefix)"
   ]
  },
  {
   "cell_type": "code",
   "execution_count": null,
   "metadata": {},
   "outputs": [],
   "source": [
    "prefix = words[0]\n",
    "for word in words[1:]:    \n",
    "    while word[:len(prefix)] != prefix:\n",
    "        prefix = prefix[:len(prefix)-1]\n",
    "        print (prefix)"
   ]
  },
  {
   "cell_type": "code",
   "execution_count": 183,
   "metadata": {},
   "outputs": [
    {
     "name": "stdout",
     "output_type": "stream",
     "text": [
      "Enter names:arthur eduardo amaral ramos\n",
      "['arthur', 'eduardo', 'amaral', 'ramos']\n"
     ]
    }
   ],
   "source": [
    "first_input = input (\"Enter names:\")\n",
    "words = list(first_input.split(' '))\n",
    "\n",
    "print (words)"
   ]
  },
  {
   "cell_type": "code",
   "execution_count": null,
   "metadata": {},
   "outputs": [],
   "source": []
  }
 ],
 "metadata": {
  "kernelspec": {
   "display_name": "Python 3",
   "language": "python",
   "name": "python3"
  },
  "language_info": {
   "codemirror_mode": {
    "name": "ipython",
    "version": 3
   },
   "file_extension": ".py",
   "mimetype": "text/x-python",
   "name": "python",
   "nbconvert_exporter": "python",
   "pygments_lexer": "ipython3",
   "version": "3.8.3"
  }
 },
 "nbformat": 4,
 "nbformat_minor": 4
}
