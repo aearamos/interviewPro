{
 "cells": [
  {
   "cell_type": "markdown",
   "metadata": {},
   "source": [
    "Hi, here's your problem today. This problem was recently asked by AirBNB:\n",
    "\n",
    "Given a sorted list of positive numbers, find the smallest positive number that cannot be a sum of any subset in the list.\n",
    "\n",
    "Example:\n",
    "Input: [1, 2, 3, 8, 9, 10]\n",
    "Output: 7\n",
    "Numbers 1 to 6 can all be summed by a subset of the list of numbers, but 7 cannot.\n",
    "\n",
    "def findSmallest(nums):\n",
    "  #Fill this in.\n",
    "\n",
    "print findSmallest([1, 2, 3, 8, 9, 10])\n",
    "#7\n"
   ]
  },
  {
   "cell_type": "code",
   "execution_count": 219,
   "metadata": {},
   "outputs": [
    {
     "name": "stdout",
     "output_type": "stream",
     "text": [
      "Enter elements of a list separated by space 1 2 3\n",
      "\n",
      "\n",
      "list:  [1, 2, 3]\n"
     ]
    }
   ],
   "source": [
    "input_string = input('Enter elements of a list separated by space ')\n",
    "print(\"\\n\")\n",
    "nums = input_string.split()\n",
    "# print list\n",
    "\n",
    "nums = [int(i) for i in nums]\n",
    "print('list: ', nums)\n",
    "         "
   ]
  },
  {
   "cell_type": "code",
   "execution_count": 224,
   "metadata": {},
   "outputs": [],
   "source": [
    "import itertools\n",
    "\n",
    "def findSmallest(nums):\n",
    "    all_combinations = []\n",
    "    sum_list = []\n",
    "    for r in range(len(nums) + 1):\n",
    "        # Call itertools.combinations(iterable, r) with a list as iterable to return a combinations object containing \n",
    "        #all combinations of the list that have length r.\n",
    "        # taken from here: https://www.kite.com/python/answers/how-to-find-all-combinations-of-a-list-in-python\n",
    "        combinations_object = itertools.combinations(nums, r) \n",
    "        combinations_list = list(combinations_object) # converto to list\n",
    "        # all_combinations is the list of possible combinations of any subset in the list\n",
    "        all_combinations += combinations_list # append to the all_combinations\n",
    "    for values in range (0, len(all_combinations)):  \n",
    "        # here we iterate over that list of tuples and append the sum of each element to sum_list\n",
    "        sum_list.append(sum(all_combinations[values]))\n",
    "    for i in range(1, max(sum_list) + 2):\n",
    "        # here we define a range from 1 to the max of the sum_list and start counting from 1. If not, it prints the value.\n",
    "        # other solutions here: https://stackoverflow.com/questions/28176866/find-the-smallest-positive-number-not-in-list\n",
    "        if i not in sum_list: break\n",
    "    print (\"possible combinations: \", all_combinations)\n",
    "    print()\n",
    "    print(\"list of sums: \", set(sum_list))\n",
    "    print()\n",
    "    return i"
   ]
  },
  {
   "cell_type": "code",
   "execution_count": 225,
   "metadata": {},
   "outputs": [
    {
     "name": "stdout",
     "output_type": "stream",
     "text": [
      "possible combinations:  [(), (1,), (2,), (3,), (1, 2), (1, 3), (2, 3), (1, 2, 3)]\n",
      "\n",
      "list of sums:  {0, 1, 2, 3, 4, 5, 6}\n",
      "\n",
      "7\n"
     ]
    }
   ],
   "source": [
    "print (findSmallest(nums))"
   ]
  },
  {
   "cell_type": "code",
   "execution_count": null,
   "metadata": {},
   "outputs": [],
   "source": []
  }
 ],
 "metadata": {
  "kernelspec": {
   "display_name": "Python 3",
   "language": "python",
   "name": "python3"
  },
  "language_info": {
   "codemirror_mode": {
    "name": "ipython",
    "version": 3
   },
   "file_extension": ".py",
   "mimetype": "text/x-python",
   "name": "python",
   "nbconvert_exporter": "python",
   "pygments_lexer": "ipython3",
   "version": "3.8.3"
  }
 },
 "nbformat": 4,
 "nbformat_minor": 4
}
